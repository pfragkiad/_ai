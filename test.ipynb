{
 "cells": [
  {
   "cell_type": "code",
   "execution_count": 6,
   "metadata": {},
   "outputs": [
    {
     "name": "stdout",
     "output_type": "stream",
     "text": [
      "tf.Tensor([ 6 10], shape=(2,), dtype=int32)\n",
      "[ 6 10] [[1 2]\n",
      " [3 4]]\n"
     ]
    }
   ],
   "source": [
    "import tensorflow as tf\n",
    "import numpy as np\n",
    "\n",
    "c = tf.add([1,3],[5,7])\n",
    "print(c) #tf.Tensor([ 6 10], shape=(2,), dtype=int32)\n",
    "print(c.numpy(),np.array([[1,2],[3,4]]))"
   ]
  },
  {
   "cell_type": "code",
   "execution_count": 7,
   "metadata": {},
   "outputs": [
    {
     "name": "stdout",
     "output_type": "stream",
     "text": [
      "[[26]]\n",
      "(1, 1)\n",
      "(2,)\n"
     ]
    }
   ],
   "source": [
    "a = tf.constant([1,3],shape=[1,2])\n",
    "b = tf.constant([5,7], shape=[2,1])\n",
    "c=tf.matmul(a,b)\n",
    "print(c.numpy())\n",
    "print(c.shape)\n",
    "\n",
    "print( np.array([1,2]).shape) #(2,)\n",
    "\n",
    "\n"
   ]
  },
  {
   "cell_type": "markdown",
   "metadata": {},
   "source": [
    "## Test numpy\n",
    "Numpy tests prerequisites. "
   ]
  },
  {
   "cell_type": "code",
   "execution_count": 8,
   "metadata": {},
   "outputs": [
    {
     "name": "stdout",
     "output_type": "stream",
     "text": [
      "2 (2, 2) 4 int32\n",
      "[[1. 2.]\n",
      " [3. 4.]] float64\n"
     ]
    }
   ],
   "source": [
    "x = np.array([[1,2],[3,4]])\n",
    "print(x.ndim,x.shape,x.size, x.dtype)\n",
    "y = x.astype('float') #float64\n",
    "print(y, y.dtype)"
   ]
  },
  {
   "cell_type": "code",
   "execution_count": 9,
   "metadata": {},
   "outputs": [
    {
     "name": "stdout",
     "output_type": "stream",
     "text": [
      "<class 'list'>\n",
      "<class 'numpy.ndarray'>\n"
     ]
    }
   ],
   "source": [
    "l = [1,2,3,4]\n",
    "print(type(l))\n",
    "print(type(np.array(l)))"
   ]
  },
  {
   "cell_type": "code",
   "execution_count": 11,
   "metadata": {},
   "outputs": [
    {
     "name": "stdout",
     "output_type": "stream",
     "text": [
      "[[1 2]\n",
      " [3 4]]\n",
      "[1 2 3 4]\n",
      "[1, 2, 3, 4]\n"
     ]
    }
   ],
   "source": [
    "print(np.vstack([[1,2],[3,4]])) #stack κατά μήκος στήλης (κάτω από το άλλο)\n",
    "print(np.hstack([[1,2],[3,4]])) #stack κατά μήκος γραμμής (δίπλα από το άλλο)\n",
    "\n",
    "print(l.copy())\n"
   ]
  },
  {
   "cell_type": "code",
   "execution_count": 35,
   "metadata": {},
   "outputs": [
    {
     "name": "stdout",
     "output_type": "stream",
     "text": [
      "[1]\n",
      "4\n",
      "[0 3]\n",
      "[3 4]\n",
      "[0 2 4 6 8]\n",
      "[[1 2]\n",
      " [3 4]]\n"
     ]
    }
   ],
   "source": [
    "a=np.array([0,1,2,3,4])\n",
    "print(a[1:2])\n",
    "print(a[-1])\n",
    "print(a[[0,3]]) #pass list of indices\n",
    "\n",
    "print(a[np.where(a>2)])\n",
    "\n",
    "r = np.array(list(2*x for x in a))\n",
    "print(r)\n",
    "\n"
   ]
  },
  {
   "cell_type": "code",
   "execution_count": 28,
   "metadata": {},
   "outputs": [
    {
     "name": "stdout",
     "output_type": "stream",
     "text": [
      "[2 3 4]\n",
      "[[100   2]\n",
      " [  3   4]]\n",
      "[[1]\n",
      " [2]\n",
      " [3]\n",
      " [4]]\n"
     ]
    }
   ],
   "source": [
    "\n",
    "m = np.array([[1,2],[3,4]])\n",
    "print(m[np.where(m>1)]) #1D\n",
    "print(np.where(m>1,m,100)) #replace non-matched values with 100! (could also be np.nan or every other value)\n",
    "\n",
    "n = np.reshape(m,[4,1])\n",
    "print(n)"
   ]
  },
  {
   "cell_type": "code",
   "execution_count": 45,
   "metadata": {},
   "outputs": [
    {
     "name": "stdout",
     "output_type": "stream",
     "text": [
      "[array([[ 1,  2, 10],\n",
      "       [ 3,  4, 20]]), array([[100,  50,  60],\n",
      "       [200,  70,  80]])]\n",
      "[array([[  1,   2,  10, 100,  50,  60]]), array([[  3,   4,  20, 200,  70,  80]])]\n"
     ]
    }
   ],
   "source": [
    "d = np.array(((1,2,10,100,50,60),(3,4,20,200,70,80)))\n",
    "#print(d.T)\n",
    "print(np.hsplit(d,2)) #σπάει γραμμές  2 κομμάτια (cut cake vertically)\n",
    "print(np.vsplit(d,2))"
   ]
  },
  {
   "cell_type": "code",
   "execution_count": 64,
   "metadata": {},
   "outputs": [
    {
     "name": "stdout",
     "output_type": "stream",
     "text": [
      "[[[ 0  1]\n",
      "  [ 2  3]]\n",
      "\n",
      " [[10 11]\n",
      "  [12 13]]] (2, 2, 2)\n",
      "b= [200   0] (2,)\n",
      "\n",
      "[[[200   1]\n",
      "  [202   3]]\n",
      "\n",
      " [[210  11]\n",
      "  [212  13]]]\n"
     ]
    }
   ],
   "source": [
    "#print(np.array([1,2]*np.array([2,3]))*10) #element wise \n",
    "\n",
    "a= np.array([[[0,1],[2,3]],[[10,11],[12,13]]])\n",
    "print(a, a.shape)\n",
    "#b = np.array([[[100,0]]])\n",
    "b = np.array([200,0]) #this works too! -> (2,) -> (1,1,2)\n",
    "print(\"b=\",b, b.shape)\n",
    "print()\n",
    "print(a+b)\n",
    "\n"
   ]
  },
  {
   "cell_type": "markdown",
   "metadata": {},
   "source": [
    "## STATISTICS!!"
   ]
  },
  {
   "cell_type": "code",
   "execution_count": 78,
   "metadata": {},
   "outputs": [
    {
     "name": "stdout",
     "output_type": "stream",
     "text": [
      "2.5\n",
      "3.5\n",
      "[3. 4.]\n",
      "[1.5 3.5 5.5]\n"
     ]
    }
   ],
   "source": [
    "a = [1,2,3,4]\n",
    "b = [[1,2],[3,4],[5,6]]\n",
    "#mean, std, var, sum, cumsum, cumprod, min, max, argmin, argmax, all, any\n",
    "print(np.mean(a)) #works for lists too\n",
    "print(np.mean(b)) #flattens the matrix\n",
    "print(np.mean(b,0)) #μέση τιμή για κάθε στήλη\n",
    "print(np.mean(b,1)) #μέση τιμή για κάθε γραμμή\n"
   ]
  },
  {
   "cell_type": "code",
   "execution_count": 81,
   "metadata": {},
   "outputs": [
    {
     "name": "stdout",
     "output_type": "stream",
     "text": [
      "[[1 2]\n",
      " [3 4]\n",
      " [5 6]]\n",
      "[[1 2]\n",
      " [7 8]]\n",
      "[[ 1  3  5]\n",
      " [ 7  9 11]]\n"
     ]
    }
   ],
   "source": [
    "b = [[[1,2],[3,4],[5,6]],\n",
    "    [[7,8],[9,10],[11,12]]]\n",
    "for i in range(np.array(b).ndim):\n",
    "    print(np.min(b,i))"
   ]
  },
  {
   "cell_type": "code",
   "execution_count": 127,
   "metadata": {},
   "outputs": [
    {
     "name": "stdout",
     "output_type": "stream",
     "text": [
      "[0 0]\n",
      "(2, 3)\n",
      "(3,)\n",
      "[0 0 0]\n",
      "[0 0 0]\n"
     ]
    }
   ],
   "source": [
    "a = np.array([[0,1,2], [0,1,2]])\n",
    "print(np.argmin(a,1)) #removes the  \"columns\" dimension  \n",
    "\n",
    "c=np.array([1,2])\n",
    "\n",
    "print(a.shape)\n",
    "\n",
    "\n",
    "ind = np.zeros(a.shape[1],dtype= np.int32)\n",
    "print(ind.shape)\n",
    "\n",
    "print(np.argmax(a,axis=0, out=ind))\n",
    "print(ind)\n"
   ]
  },
  {
   "cell_type": "markdown",
   "metadata": {},
   "source": [
    "## Integration tests"
   ]
  },
  {
   "cell_type": "code",
   "execution_count": 126,
   "metadata": {},
   "outputs": [
    {
     "name": "stdout",
     "output_type": "stream",
     "text": [
      "0.33335033840084355\n"
     ]
    }
   ],
   "source": [
    "x = np.linspace(0,1,num=100)\n",
    "y = x ** 2\n",
    "print(np.trapz(y,x))"
   ]
  },
  {
   "cell_type": "markdown",
   "metadata": {},
   "source": [
    "## All/any functions"
   ]
  },
  {
   "cell_type": "code",
   "execution_count": 133,
   "metadata": {},
   "outputs": [
    {
     "name": "stdout",
     "output_type": "stream",
     "text": [
      "False\n",
      "False\n",
      "[1. 2. 3. 0.]\n"
     ]
    }
   ],
   "source": [
    "x = [1,2,3,0]\n",
    "print(np.all(x)) #έχει μόνο μη μηδενικές τιμές\n",
    "\n",
    "x = np.array([1,2,3,0],dtype=np.float16)\n",
    "print(np.all(x)) #έχει μόνο μη μηδενικές τιμές\n",
    "print(x)"
   ]
  },
  {
   "cell_type": "code",
   "execution_count": 143,
   "metadata": {},
   "outputs": [
    {
     "name": "stdout",
     "output_type": "stream",
     "text": [
      "[1 4 9]\n",
      "14\n",
      "14\n"
     ]
    }
   ],
   "source": [
    "x = np.array([1,2,3])\n",
    "print(x*x) #always element-wise multiplication\n",
    "print(np.dot(x,x))\n",
    "print(np.matmul(x,x.T)) #same ok"
   ]
  },
  {
   "cell_type": "markdown",
   "metadata": {},
   "source": [
    "## Metrics"
   ]
  },
  {
   "cell_type": "code",
   "execution_count": 16,
   "metadata": {},
   "outputs": [
    {
     "name": "stdout",
     "output_type": "stream",
     "text": [
      "66.7%\n",
      "2.0\n",
      "3.0\n",
      "2.12.0\n"
     ]
    }
   ],
   "source": [
    "import tensorflow as tf\n",
    "import numpy as np\n",
    "import keras.metrics as metrics\n",
    "y_true = np.array([[0],[1],[1]])\n",
    "y_pred = np.array([[0.0],[0.9],[1.0]])\n",
    "m = metrics.Accuracy()\n",
    "m.update_state(y_true,y_pred)\n",
    "r = m.result()\n",
    "print(f'{r.numpy():.1%}')\n",
    "print(f'{m.total.numpy()}') #total correct count\n",
    "print(f'{m.count.numpy()}') #all count\n",
    "\n",
    "print(tf.__version__)"
   ]
  },
  {
   "cell_type": "code",
   "execution_count": 20,
   "metadata": {},
   "outputs": [
    {
     "name": "stdout",
     "output_type": "stream",
     "text": [
      "100.0%\n",
      "3.0\n",
      "3.0\n"
     ]
    }
   ],
   "source": [
    "import tensorflow as tf\n",
    "import numpy as np\n",
    "import keras.metrics as metrics\n",
    "y_true = np.array([[0],[1],[1]])\n",
    "y_pred = np.array([[0.5],[0.500001],[1.0]])\n",
    "m = metrics.BinaryAccuracy()\n",
    "m.update_state(y_true,y_pred)\n",
    "r = m.result()\n",
    "print(f'{r.numpy():.1%}')\n",
    "print(f'{m.total.numpy()}') #total correct count\n",
    "print(f'{m.count.numpy()}') #all count\n"
   ]
  },
  {
   "cell_type": "code",
   "execution_count": 30,
   "metadata": {},
   "outputs": [
    {
     "name": "stdout",
     "output_type": "stream",
     "text": [
      "100.0%\n",
      "2.0\n",
      "2.0\n"
     ]
    }
   ],
   "source": [
    "import tensorflow as tf\n",
    "import numpy as np\n",
    "import keras.metrics as metrics\n",
    "y_true = np.array([[0,1,1], [0,1,0]])\n",
    "y_pred = np.array([[0.1,0.9,0.8], [0.3,0.4,0.3]])\n",
    "m = metrics.CategoricalAccuracy()\n",
    "m.update_state(y_true,y_pred)\n",
    "r = m.result()\n",
    "print(f'{r.numpy():.1%}')\n",
    "print(f'{m.total.numpy()}') #total correct count\n",
    "print(f'{m.count.numpy()}') #all count"
   ]
  },
  {
   "cell_type": "code",
   "execution_count": 42,
   "metadata": {},
   "outputs": [
    {
     "name": "stdout",
     "output_type": "stream",
     "text": [
      "[ True  True]\n",
      "2\n",
      "True\n",
      "100.0%\n",
      "2.0\n",
      "2.0\n"
     ]
    }
   ],
   "source": [
    "import tensorflow as tf\n",
    "import numpy as np\n",
    "import keras.metrics as metrics\n",
    "y_true = np.array([[1], [2]])\n",
    "y_pred = np.array([[0.1,0.9,0.8], [0.3,0.3,0.4]])\n",
    "\n",
    "print(y_true.flatten() == np.argmax(y_pred,axis=1)) #[True True]\n",
    "print(sum([True,True])) #2\n",
    "print(True==1) #True\n",
    "\n",
    "m = metrics.SparseCategoricalAccuracy()\n",
    "m.update_state(y_true,y_pred)\n",
    "r = m.result()\n",
    "print(f'{r.numpy():.1%}')\n",
    "print(f'{m.total.numpy()}') #total correct count\n",
    "print(f'{m.count.numpy()}') #all count"
   ]
  },
  {
   "cell_type": "code",
   "execution_count": 47,
   "metadata": {},
   "outputs": [
    {
     "name": "stdout",
     "output_type": "stream",
     "text": [
      "50.0%\n",
      "1.0\n",
      "2.0\n"
     ]
    }
   ],
   "source": [
    "import tensorflow as tf\n",
    "import numpy as np\n",
    "import keras.metrics as metrics\n",
    "y_true = np.array([[0,1,0], [0,1,0]])\n",
    "y_pred = np.array([[0.1,0.9,0.8], [0.1,0.2,0.4]])\n",
    "\n",
    "m = metrics.TopKCategoricalAccuracy(k=2)\n",
    "m.update_state(y_true,y_pred)\n",
    "r = m.result()\n",
    "print(f'{r.numpy():.1%}')\n",
    "print(f'{m.total.numpy()}') #total correct count\n",
    "print(f'{m.count.numpy()}') #all count"
   ]
  }
 ],
 "metadata": {
  "kernelspec": {
   "display_name": "Python 3",
   "language": "python",
   "name": "python3"
  },
  "language_info": {
   "codemirror_mode": {
    "name": "ipython",
    "version": 3
   },
   "file_extension": ".py",
   "mimetype": "text/x-python",
   "name": "python",
   "nbconvert_exporter": "python",
   "pygments_lexer": "ipython3",
   "version": "3.8.0"
  },
  "orig_nbformat": 4
 },
 "nbformat": 4,
 "nbformat_minor": 2
}
